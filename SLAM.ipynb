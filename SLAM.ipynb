{
 "cells": [
  {
   "cell_type": "code",
   "execution_count": 7,
   "metadata": {},
   "outputs": [],
   "source": [
    "# load data from wheel encoders and lidar (just wheel encoders for now)\n",
    "import numpy as np\n",
    "import pickle\n",
    "from scipy import io\n",
    "import pdb\n",
    "\n",
    "class Robot:\n",
    "    def __init__(self):\n",
    "        # Physical data on robot\n",
    "        self.wheel_diameter =.254 \n",
    "        self.axle_width = .47265\n",
    "        # Wheel encoder data\n",
    "        self.wheel_encoder_FR = None\n",
    "        self.wheel_encoder_FL = None\n",
    "        self.wheel_encoder_RR = None\n",
    "        self.wheel_encoder_RL = None\n",
    "        self.wheel_encoder_ts = None\n",
    "        self.last_we_reading = None\n",
    "        \n",
    "        #Lidar data\n",
    "        self.lidar = None\n",
    "    \n",
    "        # Trajectory data\n",
    "        self.current_pose = np.array([0.0, 0.0, 0.0])\n",
    "        self.prev_delta = np.array([0.0, 0.0]) # Encodes displacement and theta\n",
    "    \n",
    "    \n",
    "    def get_encoder(self, file_name):\n",
    "\n",
    "        data = io.loadmat(file_name+\".mat\")\n",
    "    #\tpdb.set_trace()\n",
    "\n",
    "        \n",
    "        \n",
    "        self.wheel_encoder_FR = np.double(data['Encoders']['counts'][0,0][0])\n",
    "        self.wheel_encoder_FL = np.double(data['Encoders']['counts'][0,0][1])\n",
    "        self.wheel_encoder_RR = np.double(data['Encoders']['counts'][0,0][2])\n",
    "        self.wheel_encoder_RL = np.double(data['Encoders']['counts'][0,0][3])\n",
    "        self.wheel_encoder_ts = np.double(data['Encoders']['ts'][0,0][0])\n",
    "        self.last_we_reading = -1\n",
    "\n",
    "    \n",
    "    def get_lidar(self, file_name):\n",
    "        data = io.loadmat(file_name+\".mat\")\n",
    "        lidar = []\n",
    "        angles = np.double(data['Hokuyo0']['angles'][0][0])\n",
    "        ranges = np.array(data['Hokuyo0']['ranges'][0][0]).T\n",
    "        ts_set = data['Hokuyo0']['ts'][0,0][0]\n",
    "\n",
    "        idx = 0\t\n",
    "        for m in ranges:\n",
    "            tmp = {}\n",
    "            tmp['t'] = ts_set[idx]\n",
    "            tmp['scan'] = m\n",
    "            tmp['angle'] = angles\n",
    "            lidar.append(tmp)\n",
    "            idx = idx + 1\n",
    "        self.lidar = lidar\n",
    "        return lidar\n",
    "    \n",
    "    \n",
    "    def deadReckoning(self, ts):\n",
    "        '''\n",
    "        Get dead reckoning of wheel odometry at time stamp ts\n",
    "        \n",
    "        input: ts\n",
    "        '''\n",
    "        \n",
    "        tick_length = (1.0 / 360.0) * np.pi * self.wheel_diameter\n",
    "        x_prev = self.current_pose[0]\n",
    "        y_prev = self.current_pose[1]\n",
    "        theta_prev = self.current_pose[2]\n",
    "        \n",
    "        print(np.absolute(self.wheel_encoder_ts - ts)[1000:1500])\n",
    "        closest_we_reading = np.argmin(np.absolute(self.wheel_encoder_ts - ts))\n",
    "        if closest_we_reading == self.wheel_encoder_ts.shape[0] - 1:\n",
    "          closest_we_reading -= 1\n",
    "        if closest_we_reading < self.last_we_reading:\n",
    "          print(\"ERROR: Provided time step is less than previous...\")\n",
    "          sys.exit(1)\n",
    "        \n",
    "        \n",
    "        # Sum of readings over a period of time encoders spit out the number of readings PER time step\n",
    "        rl = np.sum(self.wheel_encoder_RL[closest_we_reading : ts + 1])\n",
    "        rr = np.sum(self.wheel_encoder_RL[closest_we_reading : ts + 1])\n",
    "        \n",
    "        sl = rl * tick_length\n",
    "        sr = rr * tick_length\n",
    "        \n",
    "        s = (sl + sr) / 2\n",
    "        \n",
    "        self.prev_delta[0] = s\n",
    "        self.prev_delta[1] = s / (1.5 * self.axle_width)\n",
    "        \n",
    "        self.current_pose[2] = theta_prev + self.prev_delta[1]\n",
    "        self.current_pose[0] = x_prev + s * np.cos(self.current_pose[2])\n",
    "        self.current_pose[1] = y_prev + s * np.sin(self.current_pose[2])\n",
    "        \n",
    "        # reset the last wheel encoder reading for the next iteration\n",
    "#         print(self.last_we_reading)\n",
    "        print(closest_we_reading)\n",
    "        \n",
    "        self.last_we_reading = closest_we_reading\n",
    "        \n",
    "        return np.array(self.prev_delta)\n",
    "        \n",
    "        \n",
    "# robot = Robot()\n",
    "# robot.get_encoder('data/Encoders23')\n",
    "# # acc_x, acc_y, acc_z, gyro_x, gyro_y, gyro_z, imu_ts\t = ld.get_imu('imuRaw20')\n",
    "\n",
    "# FR, FL, RR, RL,enc_ts = ld.get_encoder('Encoders20')\n",
    "\n",
    "# lidar = ld.get_lidar('Hokuyo20')\n",
    "\n",
    "\n",
    "# robot.deadReckoning(500)\n"
   ]
  },
  {
   "cell_type": "code",
   "execution_count": 26,
   "metadata": {},
   "outputs": [
    {
     "name": "stdout",
     "output_type": "stream",
     "text": [
      "{'t': 1298445274.550587, 'scan': array([3.375     , 3.375     , 3.38199997, ..., 4.90999985, 4.90999985,\n",
      "       4.90999985]), 'angle': array([[-2.35619449],\n",
      "       [-2.35183117],\n",
      "       [-2.34746784],\n",
      "       ...,\n",
      "       [ 2.34746784],\n",
      "       [ 2.35183117],\n",
      "       [ 2.35619449]])}\n",
      "1298445274.541885\n"
     ]
    }
   ],
   "source": [
    "# Understand data\n",
    "robot = Robot()\n",
    "robot.get_lidar('data/Hokuyo20')\n",
    "robot.get_encoder('data/Encoders20')\n",
    "print(robot.lidar[0]) # LIDAR data comes in dictionary. Each time stamp represents TOF readings along with the angle they are captured at\n",
    "print(robot.wheel_encoder_ts[0]) # Odometry data represents how far wheel moved at each time step\n",
    "      "
   ]
  },
  {
   "cell_type": "code",
   "execution_count": 27,
   "metadata": {},
   "outputs": [
    {
     "name": "stdout",
     "output_type": "stream",
     "text": [
      "ehhlo\n"
     ]
    }
   ],
   "source": [
    "print(\"ehhlo\")"
   ]
  },
  {
   "cell_type": "code",
   "execution_count": null,
   "metadata": {},
   "outputs": [],
   "source": [
    "    \n",
    "    \n",
    "    def get_imu(self, file_name):\n",
    "\n",
    "        data = io.loadmat(file_name+\".mat\")\n",
    "\n",
    "        acc_x = np.double(data['vals'])[0]\n",
    "        acc_y = np.double(data['vals'])[1]\n",
    "        acc_z = np.double(data['vals'])[2]\n",
    "        gyro_x = np.double(data['vals'])[3]\n",
    "        gyro_y = np.double(data['vals'])[4]\n",
    "        gyro_z = np.double(data['vals'])[5]\t\n",
    "        ts = np.double(data['ts'][0])\n",
    "    #\tpdb.set_trace()\n",
    "\n",
    "        return acc_x, acc_y, acc_z, gyro_x, gyro_y, gyro_z, ts\t "
   ]
  },
  {
   "cell_type": "code",
   "execution_count": 36,
   "metadata": {},
   "outputs": [
    {
     "data": {
      "text/plain": [
       "[<matplotlib.lines.Line2D at 0x242d2c79208>]"
      ]
     },
     "execution_count": 36,
     "metadata": {},
     "output_type": "execute_result"
    },
    {
     "data": {
      "image/png": "[encoded data removed]",
      "text/plain": [
       "<Figure size 432x288 with 1 Axes>"
      ]
     },
     "metadata": {
      "needs_background": "light"
     },
     "output_type": "display_data"
    }
   ],
   "source": [
    "# Pseduocode for particle filter. Start out with some fake data. This is for unit testing\n",
    "\n",
    "import numpy as np\n",
    "# import seaborn as sns\n",
    "import scipy.stats as st\n",
    "import matplotlib.pyplot as plt\n",
    "\n",
    "\n",
    "class Particle:\n",
    "    '''\n",
    "    Separated by [state, weight] per particle\n",
    "    \n",
    "    Should I keep them in a single one, or watch the group of particles?\n",
    "    \n",
    "    I decided to go with a single particle. Then if I want I can remove it\n",
    "    \n",
    "    '''\n",
    "    def __init__(self, state):\n",
    "        self.state = state\n",
    "#         self.number = number\n",
    "#         self.weight = weight\n",
    "        self.weight = np.random.uniform()\n",
    "#     self.particles = list(np.random.uniform(size = number))\n",
    "        \n",
    "    def display_weight(self):\n",
    "        print(self.weight)\n",
    "    \n",
    "    def display_state(self):\n",
    "        print(self.state)\n",
    "        \n",
    "    def replace(state, weight):\n",
    "        self.state = state\n",
    "        self.weight = weight\n",
    "\n",
    "        \n",
    "x = np.arange(-50,150)\n",
    "\n",
    "norm = st.norm.pdf(x, loc = 30)\n",
    "# print(norm[-10:])\n",
    "\n",
    "\n",
    "\n"
   ]
  },
  {
   "cell_type": "code",
   "execution_count": null,
   "metadata": {},
   "outputs": [],
   "source": [
    "dir(st)"
   ]
  },
  {
   "cell_type": "markdown",
   "metadata": {},
   "source": [
    "# Acceptance rejection sampling\n",
    "\n",
    "Goal is to estimate a hard distribution to model analytically. This is done based on a ratio, which uses relative height, using a uniform distribution as a modeler, to figure out the ratio to sample from\n",
    "\n",
    "\n",
    "![](https://wiseodd.github.io/img/2015-10-21-rejection-sampling/01.png)\n",
    "## After scaling\n",
    "![](https://wiseodd.github.io/img/2015-10-21-rejection-sampling/02.png)\n",
    "\n",
    "Disadvantage is that you may have to go through many samples get a high resolution distribution"
   ]
  },
  {
   "cell_type": "code",
   "execution_count": 16,
   "metadata": {},
   "outputs": [
    {
     "name": "stdout",
     "output_type": "stream",
     "text": [
      "U [0.6957096  0.14503001 0.83719764 0.50403038 0.31585401 0.14713075\n",
      " 0.64304237 0.85647485 0.45608325 0.09642327]\n",
      "X [7 2 9 6 4 2 7 9 5 1]\n",
      "[0.11 0.01 0.08 0.12 0.1  0.09 0.1  0.1  0.1  0.19]\n",
      "[0.1 0.1 0.1 0.1 0.1 0.1 0.1 0.1 0.1 0.1]\n",
      "550\n"
     ]
    },
    {
     "data": {
      "text/plain": [
       "(array([62.,  4., 54., 68., 62., 42., 43., 56., 61., 98.]),\n",
       " array([ 1. ,  1.9,  2.8,  3.7,  4.6,  5.5,  6.4,  7.3,  8.2,  9.1, 10. ]),\n",
       " <a list of 10 Patch objects>)"
      ]
     },
     "execution_count": 16,
     "metadata": {},
     "output_type": "execute_result"
    },
    {
     "data": {
      "image/png": "[encoded data removed]",
      "text/plain": [
       "<Figure size 432x288 with 1 Axes>"
      ]
     },
     "metadata": {
      "needs_background": "light"
     },
     "output_type": "display_data"
    }
   ],
   "source": [
    "# Acceptance-rejection sampling\n",
    "\n",
    "import numpy as np\n",
    "from scipy.stats import uniform\n",
    "\n",
    "# This is the target distribution. You want to create samples baesd upon that\n",
    "Y = np.arange(1, 11)\n",
    "p = np.array([0.11, 0.01, 0.08, 0.12, 0.10, 0.09, 0.10, 0.10, .10, .19])\n",
    "\n",
    "# This is the proposed distribution which is much easier to model - a uniform distribution\n",
    "q  = np.full(p.shape, 1/10)\n",
    "\n",
    "# Scaling factor, used to get the maximal height seen in distribution (this gets rid of the normalization in the distribution)\n",
    "c = np.max(p / q)\n",
    "\n",
    "# Will hold the value of simulated distribution\n",
    "samples = []\n",
    "\n",
    "# Number of samples that will be tested\n",
    "iter = 1000\n",
    "\n",
    "# If I get a high uniform value, then X (proposal) is also going to be really high. So it is less likely that these values will be chosen\n",
    "\n",
    "U = uniform.rvs(size = iter)\n",
    "X = np.array(10 * U + 1, dtype = \"int\")\n",
    "\n",
    "for i in range(iter):\n",
    "    if np.random.uniform() < (p[X[i] -1 ]) / (c * q[X[i] - 1]):\n",
    "        samples.append(X[i])\n",
    "\n",
    "import matplotlib.pyplot as plt\n",
    "plt.hist(np.array(samples))"
   ]
  },
  {
   "cell_type": "code",
   "execution_count": null,
   "metadata": {},
   "outputs": [],
   "source": []
  }
 ],
 "metadata": {
  "kernelspec": {
   "display_name": "Python 3",
   "language": "python",
   "name": "python3"
  },
  "language_info": {
   "codemirror_mode": {
    "name": "ipython",
    "version": 3
   },
   "file_extension": ".py",
   "mimetype": "text/x-python",
   "name": "python",
   "nbconvert_exporter": "python",
   "pygments_lexer": "ipython3",
   "version": "3.7.3"
  }
 },
 "nbformat": 4,
 "nbformat_minor": 2
}
